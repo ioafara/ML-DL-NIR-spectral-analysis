{
  "nbformat": 4,
  "nbformat_minor": 0,
  "metadata": {
    "colab": {
      "name": "NIRS_ML_multi_class.ipynb",
      "version": "0.3.2",
      "provenance": [],
      "include_colab_link": true
    },
    "language_info": {
      "codemirror_mode": {
        "name": "ipython",
        "version": 3
      },
      "file_extension": ".py",
      "mimetype": "text/x-python",
      "name": "python",
      "nbconvert_exporter": "python",
      "pygments_lexer": "ipython3",
      "version": "3.6.6"
    },
    "kernelspec": {
      "display_name": "Python 3",
      "language": "python",
      "name": "python3"
    }
  },
  "cells": [
    {
      "cell_type": "markdown",
      "metadata": {
        "id": "view-in-github",
        "colab_type": "text"
      },
      "source": [
        "<a href=\"https://colab.research.google.com/github/ioafara/ML-DL-NIR-spectral-analysis/blob/master/NIRS_ML_multi_class.ipynb\" target=\"_parent\"><img src=\"https://colab.research.google.com/assets/colab-badge.svg\" alt=\"Open In Colab\"/></a>"
      ]
    },
    {
      "cell_type": "markdown",
      "metadata": {
        "id": "b_cB2FD05xdT",
        "colab_type": "text"
      },
      "source": [
        "## Classification of cartilage integrity based on NIR spectroscopy"
      ]
    },
    {
      "cell_type": "markdown",
      "metadata": {
        "id": "I0Lbqwss7sOz",
        "colab_type": "text"
      },
      "source": [
        "### Mount and setup drive"
      ]
    },
    {
      "cell_type": "code",
      "metadata": {
        "id": "ZjeVYDYH7qSm",
        "colab_type": "code",
        "colab": {}
      },
      "source": [
        "# Load the drive helper and mount\n",
        "from google.colab import drive\n",
        "\n",
        "# This will prompt for authorization\n",
        "drive.mount('/content/drive')"
      ],
      "execution_count": 0,
      "outputs": []
    },
    {
      "cell_type": "code",
      "metadata": {
        "id": "v6YDtuSjFtYC",
        "colab_type": "code",
        "colab": {}
      },
      "source": [
        "%cd ./drive/My Drive/data/spectra"
      ],
      "execution_count": 0,
      "outputs": []
    },
    {
      "cell_type": "code",
      "metadata": {
        "id": "rCGsYlc15xdU",
        "colab_type": "code",
        "colab": {},
        "outputId": "1a43fe68-36f1-4c2e-f65e-609683117e92"
      },
      "source": [
        "'''\n",
        "Author:          Isaac Afara, Ph.D.\n",
        "                 Department of Applied Physics\n",
        "                 University of Eastern Finland\n",
        "                 Kuopio, Finland.   \n",
        "Date:            October 18, 2018\n",
        "Update:          December 4, 2018\n",
        "Ported to colab: July 16, 2019\n",
        "\n",
        "'''\n",
        "\n",
        "from __future__ import print_function\n",
        "\n",
        "# data analysis and wrangling\n",
        "import itertools\n",
        "import numpy as np\n",
        "from scipy.signal import savgol_filter\n",
        "import pandas as pd\n",
        "from time import time\n",
        "\n",
        "# visualization\n",
        "import matplotlib.pyplot as plt\n",
        "%matplotlib inline\n",
        "\n",
        "# machine learning\n",
        "from sklearn.model_selection import GridSearchCV\n",
        "from sklearn.metrics import classification_report, cohen_kappa_score, roc_auc_score\n",
        "from sklearn.metrics import confusion_matrix, f1_score \n",
        "from sklearn.preprocessing import StandardScaler\n",
        "from sklearn.decomposition import PCA\n",
        "from sklearn.pipeline import make_pipeline\n",
        "from sklearn.svm import SVC\n",
        "from sklearn import preprocessing\n",
        "from sklearn.ensemble import RandomForestClassifier\n",
        "from sklearn.linear_model import LogisticRegression\n",
        "\n",
        "# neural networks and deep learning\n",
        "#!pip install tensorflow-gpu==1.12\n",
        "from keras.models import Sequential, load_model\n",
        "from keras.optimizers import Adam, SGD\n",
        "from keras.layers import Dense, Conv1D, Dropout, Flatten, Activation, Reshape, BatchNormalization\n",
        "from keras.utils import np_utils\n",
        "from keras.callbacks import EarlyStopping, ModelCheckpoint\n",
        "from keras.initializers import he_uniform\n",
        "from keras import backend as K\n",
        "from tensorflow.python.keras.callbacks import TensorBoard\n",
        "\n",
        "\n",
        "# general\n",
        "import warnings\n",
        "warnings.filterwarnings('ignore')  \n",
        "\n",
        "\n",
        "print(__doc__)"
      ],
      "execution_count": 0,
      "outputs": [
        {
          "output_type": "stream",
          "text": [
            "Using TensorFlow backend.\n"
          ],
          "name": "stderr"
        },
        {
          "output_type": "stream",
          "text": [
            "\n",
            "Author: Isaac Afara, Ph.D.\n",
            "        Department of Applied Physics\n",
            "        University of Eastern Finland\n",
            "        Kuopio, Finland.   \n",
            "Date:   18th October, 2018\n",
            "Update: 4th December, 2018\n",
            "\n",
            "\n"
          ],
          "name": "stdout"
        }
      ]
    },
    {
      "cell_type": "code",
      "metadata": {
        "id": "XYnPbupW5xdZ",
        "colab_type": "code",
        "colab": {}
      },
      "source": [
        "# Helper function plotting confusion matrix\n",
        "\n",
        "def plot_confusion_matrix(cm, classes,\n",
        "                          normalize=False,\n",
        "                          title='Confusion matrix',\n",
        "                          cmap=plt.cm.Blues):\n",
        "    \"\"\"\n",
        "    This function prints and plots the confusion matrix.\n",
        "    Normalization can be applied by setting `normalize=True`.\n",
        "    \"\"\"\n",
        "    if normalize:\n",
        "        cm = cm.astype('float') / cm.sum(axis=1)[:, np.newaxis]\n",
        "        print(\"Normalized confusion matrix\")\n",
        "    else:\n",
        "        print('Confusion matrix, without normalization')\n",
        "\n",
        "    print(cm)\n",
        "\n",
        "    plt.imshow(cm, interpolation='nearest', cmap=cmap)\n",
        "    plt.title(title)\n",
        "    plt.colorbar()\n",
        "    tick_marks = np.arange(len(classes))\n",
        "    plt.xticks(tick_marks, classes, rotation=45)\n",
        "    plt.yticks(tick_marks, classes)\n",
        "\n",
        "    fmt = '.2f' if normalize else 'd'\n",
        "    thresh = cm.max() / 2.\n",
        "    for i, j in itertools.product(range(cm.shape[0]), range(cm.shape[1])):\n",
        "        plt.text(j, i, format(cm[i, j], fmt),\n",
        "                 horizontalalignment=\"center\",\n",
        "                 color=\"white\" if cm[i, j] > thresh else \"black\")\n",
        "\n",
        "    plt.ylabel('True label')\n",
        "    plt.xlabel('Predicted label')\n",
        "    plt.tight_layout()\n"
      ],
      "execution_count": 0,
      "outputs": []
    },
    {
      "cell_type": "markdown",
      "metadata": {
        "id": "LYZ9Y5lG5xdb",
        "colab_type": "text"
      },
      "source": [
        "### Import dataset\n",
        "\n",
        "Import, prepare and visualize data"
      ]
    },
    {
      "cell_type": "code",
      "metadata": {
        "id": "KYbmq27F5xdc",
        "colab_type": "code",
        "colab": {},
        "outputId": "0668f3e6-88a4-4d52-ca20-42835d02ddb5"
      },
      "source": [
        "# Load dataset\n",
        "data = pd.read_csv('spectra/nir_data.csv')#'fullNIR.csv'\n",
        "\n",
        "print('Size of data:',data.shape)"
      ],
      "execution_count": 0,
      "outputs": [
        {
          "output_type": "stream",
          "text": [
            "Size of data: (313, 246)\n"
          ],
          "name": "stdout"
        }
      ]
    },
    {
      "cell_type": "code",
      "metadata": {
        "id": "JUSg8bji5xdf",
        "colab_type": "code",
        "colab": {},
        "outputId": "972ee7a7-1ae9-447a-e023-64da74998a91"
      },
      "source": [
        "data.head()"
      ],
      "execution_count": 0,
      "outputs": [
        {
          "output_type": "execute_result",
          "data": {
            "text/html": [
              "<div>\n",
              "<style scoped>\n",
              "    .dataframe tbody tr th:only-of-type {\n",
              "        vertical-align: middle;\n",
              "    }\n",
              "\n",
              "    .dataframe tbody tr th {\n",
              "        vertical-align: top;\n",
              "    }\n",
              "\n",
              "    .dataframe thead th {\n",
              "        text-align: right;\n",
              "    }\n",
              "</style>\n",
              "<table border=\"1\" class=\"dataframe\">\n",
              "  <thead>\n",
              "    <tr style=\"text-align: right;\">\n",
              "      <th></th>\n",
              "      <th>animals</th>\n",
              "      <th>integrity</th>\n",
              "      <th>943.05</th>\n",
              "      <th>949.6</th>\n",
              "      <th>956.15</th>\n",
              "      <th>962.7</th>\n",
              "      <th>969.25</th>\n",
              "      <th>975.8</th>\n",
              "      <th>982.35</th>\n",
              "      <th>988.89</th>\n",
              "      <th>...</th>\n",
              "      <th>2447</th>\n",
              "      <th>2453.3</th>\n",
              "      <th>2459.7</th>\n",
              "      <th>2466</th>\n",
              "      <th>2472.4</th>\n",
              "      <th>2478.7</th>\n",
              "      <th>2485.1</th>\n",
              "      <th>2491.4</th>\n",
              "      <th>2497.8</th>\n",
              "      <th>2504.1</th>\n",
              "    </tr>\n",
              "  </thead>\n",
              "  <tbody>\n",
              "    <tr>\n",
              "      <th>0</th>\n",
              "      <td>2ACL_M1</td>\n",
              "      <td>A</td>\n",
              "      <td>0.82626</td>\n",
              "      <td>0.80473</td>\n",
              "      <td>0.95486</td>\n",
              "      <td>1.0691</td>\n",
              "      <td>0.90253</td>\n",
              "      <td>1.0026</td>\n",
              "      <td>0.95292</td>\n",
              "      <td>1.0308</td>\n",
              "      <td>...</td>\n",
              "      <td>2.2142</td>\n",
              "      <td>2.9081</td>\n",
              "      <td>3.5259</td>\n",
              "      <td>1.5544</td>\n",
              "      <td>4.0</td>\n",
              "      <td>1.4224</td>\n",
              "      <td>4.0</td>\n",
              "      <td>4.0000</td>\n",
              "      <td>2.0955</td>\n",
              "      <td>4.0</td>\n",
              "    </tr>\n",
              "    <tr>\n",
              "      <th>1</th>\n",
              "      <td>2ACL_M1</td>\n",
              "      <td>A</td>\n",
              "      <td>1.15140</td>\n",
              "      <td>1.35400</td>\n",
              "      <td>1.26280</td>\n",
              "      <td>1.2574</td>\n",
              "      <td>0.96724</td>\n",
              "      <td>0.9738</td>\n",
              "      <td>1.14060</td>\n",
              "      <td>1.1324</td>\n",
              "      <td>...</td>\n",
              "      <td>1.5519</td>\n",
              "      <td>4.0000</td>\n",
              "      <td>3.2685</td>\n",
              "      <td>1.4490</td>\n",
              "      <td>4.0</td>\n",
              "      <td>2.2590</td>\n",
              "      <td>4.0</td>\n",
              "      <td>3.1079</td>\n",
              "      <td>3.1036</td>\n",
              "      <td>4.0</td>\n",
              "    </tr>\n",
              "    <tr>\n",
              "      <th>2</th>\n",
              "      <td>2ACL_M1</td>\n",
              "      <td>A</td>\n",
              "      <td>0.94335</td>\n",
              "      <td>1.01790</td>\n",
              "      <td>1.09350</td>\n",
              "      <td>1.1432</td>\n",
              "      <td>0.91946</td>\n",
              "      <td>1.0490</td>\n",
              "      <td>1.00390</td>\n",
              "      <td>1.1941</td>\n",
              "      <td>...</td>\n",
              "      <td>4.0000</td>\n",
              "      <td>4.0000</td>\n",
              "      <td>4.0000</td>\n",
              "      <td>1.3116</td>\n",
              "      <td>4.0</td>\n",
              "      <td>3.3926</td>\n",
              "      <td>4.0</td>\n",
              "      <td>4.0000</td>\n",
              "      <td>3.3799</td>\n",
              "      <td>4.0</td>\n",
              "    </tr>\n",
              "    <tr>\n",
              "      <th>3</th>\n",
              "      <td>2ACL_M1</td>\n",
              "      <td>A</td>\n",
              "      <td>0.74013</td>\n",
              "      <td>0.97118</td>\n",
              "      <td>1.04990</td>\n",
              "      <td>1.1016</td>\n",
              "      <td>0.87052</td>\n",
              "      <td>1.0221</td>\n",
              "      <td>1.06960</td>\n",
              "      <td>1.0621</td>\n",
              "      <td>...</td>\n",
              "      <td>3.4203</td>\n",
              "      <td>4.0000</td>\n",
              "      <td>2.8129</td>\n",
              "      <td>1.9655</td>\n",
              "      <td>4.0</td>\n",
              "      <td>3.0725</td>\n",
              "      <td>4.0</td>\n",
              "      <td>4.0000</td>\n",
              "      <td>4.0000</td>\n",
              "      <td>4.0</td>\n",
              "    </tr>\n",
              "    <tr>\n",
              "      <th>4</th>\n",
              "      <td>2ACL_M1</td>\n",
              "      <td>A</td>\n",
              "      <td>1.07810</td>\n",
              "      <td>1.12220</td>\n",
              "      <td>1.25060</td>\n",
              "      <td>1.3822</td>\n",
              "      <td>0.98677</td>\n",
              "      <td>1.1179</td>\n",
              "      <td>1.11730</td>\n",
              "      <td>1.0746</td>\n",
              "      <td>...</td>\n",
              "      <td>3.4618</td>\n",
              "      <td>3.4040</td>\n",
              "      <td>4.0000</td>\n",
              "      <td>2.7526</td>\n",
              "      <td>4.0</td>\n",
              "      <td>2.8342</td>\n",
              "      <td>4.0</td>\n",
              "      <td>4.0000</td>\n",
              "      <td>1.0453</td>\n",
              "      <td>4.0</td>\n",
              "    </tr>\n",
              "  </tbody>\n",
              "</table>\n",
              "<p>5 rows × 246 columns</p>\n",
              "</div>"
            ],
            "text/plain": [
              "   animals integrity   943.05    949.6   956.15   962.7   969.25   975.8  \\\n",
              "0  2ACL_M1         A  0.82626  0.80473  0.95486  1.0691  0.90253  1.0026   \n",
              "1  2ACL_M1         A  1.15140  1.35400  1.26280  1.2574  0.96724  0.9738   \n",
              "2  2ACL_M1         A  0.94335  1.01790  1.09350  1.1432  0.91946  1.0490   \n",
              "3  2ACL_M1         A  0.74013  0.97118  1.04990  1.1016  0.87052  1.0221   \n",
              "4  2ACL_M1         A  1.07810  1.12220  1.25060  1.3822  0.98677  1.1179   \n",
              "\n",
              "    982.35  988.89   ...      2447  2453.3  2459.7    2466  2472.4  2478.7  \\\n",
              "0  0.95292  1.0308   ...    2.2142  2.9081  3.5259  1.5544     4.0  1.4224   \n",
              "1  1.14060  1.1324   ...    1.5519  4.0000  3.2685  1.4490     4.0  2.2590   \n",
              "2  1.00390  1.1941   ...    4.0000  4.0000  4.0000  1.3116     4.0  3.3926   \n",
              "3  1.06960  1.0621   ...    3.4203  4.0000  2.8129  1.9655     4.0  3.0725   \n",
              "4  1.11730  1.0746   ...    3.4618  3.4040  4.0000  2.7526     4.0  2.8342   \n",
              "\n",
              "   2485.1  2491.4  2497.8  2504.1  \n",
              "0     4.0  4.0000  2.0955     4.0  \n",
              "1     4.0  3.1079  3.1036     4.0  \n",
              "2     4.0  4.0000  3.3799     4.0  \n",
              "3     4.0  4.0000  4.0000     4.0  \n",
              "4     4.0  4.0000  1.0453     4.0  \n",
              "\n",
              "[5 rows x 246 columns]"
            ]
          },
          "metadata": {
            "tags": []
          },
          "execution_count": 4
        }
      ]
    },
    {
      "cell_type": "code",
      "metadata": {
        "id": "daRX9br35xdi",
        "colab_type": "code",
        "colab": {},
        "outputId": "9a8aecd2-8b60-4e4b-ff93-8e9537832b4f"
      },
      "source": [
        "# Extract animals as list\n",
        "names = data['animals'].unique().tolist() \n",
        "\n",
        "print('There are:',len(names),'unique animals, with the 1st and last animals ==>>', \n",
        "      names[0], 'and', names[-1],'.')"
      ],
      "execution_count": 0,
      "outputs": [
        {
          "output_type": "stream",
          "text": [
            "There are: 45 unique animals, with the 1st and last animals ==>> 2ACL_M1 and 8C_M4_right .\n"
          ],
          "name": "stdout"
        }
      ]
    },
    {
      "cell_type": "code",
      "metadata": {
        "id": "CBcF_TQL5xdk",
        "colab_type": "code",
        "colab": {},
        "outputId": "9a66f6f3-ef59-4066-e945-8007fd50f653"
      },
      "source": [
        "names = pd.DataFrame(data=names)\n",
        "names"
      ],
      "execution_count": 0,
      "outputs": [
        {
          "output_type": "execute_result",
          "data": {
            "text/html": [
              "<div>\n",
              "<style scoped>\n",
              "    .dataframe tbody tr th:only-of-type {\n",
              "        vertical-align: middle;\n",
              "    }\n",
              "\n",
              "    .dataframe tbody tr th {\n",
              "        vertical-align: top;\n",
              "    }\n",
              "\n",
              "    .dataframe thead th {\n",
              "        text-align: right;\n",
              "    }\n",
              "</style>\n",
              "<table border=\"1\" class=\"dataframe\">\n",
              "  <thead>\n",
              "    <tr style=\"text-align: right;\">\n",
              "      <th></th>\n",
              "      <th>0</th>\n",
              "    </tr>\n",
              "  </thead>\n",
              "  <tbody>\n",
              "    <tr>\n",
              "      <th>0</th>\n",
              "      <td>2ACL_M1</td>\n",
              "    </tr>\n",
              "    <tr>\n",
              "      <th>1</th>\n",
              "      <td>2ACL_M1_CL</td>\n",
              "    </tr>\n",
              "    <tr>\n",
              "      <th>2</th>\n",
              "      <td>2ACL_M2</td>\n",
              "    </tr>\n",
              "    <tr>\n",
              "      <th>3</th>\n",
              "      <td>2ACL_M2_CL</td>\n",
              "    </tr>\n",
              "    <tr>\n",
              "      <th>4</th>\n",
              "      <td>2ACL_M3</td>\n",
              "    </tr>\n",
              "    <tr>\n",
              "      <th>5</th>\n",
              "      <td>2ACL_M3_CL</td>\n",
              "    </tr>\n",
              "    <tr>\n",
              "      <th>6</th>\n",
              "      <td>2ACL_M4</td>\n",
              "    </tr>\n",
              "    <tr>\n",
              "      <th>7</th>\n",
              "      <td>2ACL_M4_CL</td>\n",
              "    </tr>\n",
              "    <tr>\n",
              "      <th>8</th>\n",
              "      <td>2ACL_M5</td>\n",
              "    </tr>\n",
              "    <tr>\n",
              "      <th>9</th>\n",
              "      <td>2ACL_M6</td>\n",
              "    </tr>\n",
              "    <tr>\n",
              "      <th>10</th>\n",
              "      <td>2ACL_M6_CL</td>\n",
              "    </tr>\n",
              "    <tr>\n",
              "      <th>11</th>\n",
              "      <td>2ACL_M7</td>\n",
              "    </tr>\n",
              "    <tr>\n",
              "      <th>12</th>\n",
              "      <td>2ACL_M7_CL</td>\n",
              "    </tr>\n",
              "    <tr>\n",
              "      <th>13</th>\n",
              "      <td>2ACL_M8</td>\n",
              "    </tr>\n",
              "    <tr>\n",
              "      <th>14</th>\n",
              "      <td>2ACL_M8_CL</td>\n",
              "    </tr>\n",
              "    <tr>\n",
              "      <th>15</th>\n",
              "      <td>2ACL_O5</td>\n",
              "    </tr>\n",
              "    <tr>\n",
              "      <th>16</th>\n",
              "      <td>2ACL_O5_CL</td>\n",
              "    </tr>\n",
              "    <tr>\n",
              "      <th>17</th>\n",
              "      <td>2C_M1</td>\n",
              "    </tr>\n",
              "    <tr>\n",
              "      <th>18</th>\n",
              "      <td>2C_M2</td>\n",
              "    </tr>\n",
              "    <tr>\n",
              "      <th>19</th>\n",
              "      <td>2C_M3</td>\n",
              "    </tr>\n",
              "    <tr>\n",
              "      <th>20</th>\n",
              "      <td>2C_M4</td>\n",
              "    </tr>\n",
              "    <tr>\n",
              "      <th>21</th>\n",
              "      <td>2C_M5</td>\n",
              "    </tr>\n",
              "    <tr>\n",
              "      <th>22</th>\n",
              "      <td>2C_M6</td>\n",
              "    </tr>\n",
              "    <tr>\n",
              "      <th>23</th>\n",
              "      <td>2C_M7</td>\n",
              "    </tr>\n",
              "    <tr>\n",
              "      <th>24</th>\n",
              "      <td>2C_M8</td>\n",
              "    </tr>\n",
              "    <tr>\n",
              "      <th>25</th>\n",
              "      <td>8ACL_M1</td>\n",
              "    </tr>\n",
              "    <tr>\n",
              "      <th>26</th>\n",
              "      <td>8ACL_M1_CL</td>\n",
              "    </tr>\n",
              "    <tr>\n",
              "      <th>27</th>\n",
              "      <td>8ACL_M2</td>\n",
              "    </tr>\n",
              "    <tr>\n",
              "      <th>28</th>\n",
              "      <td>8ACL_M2_CL</td>\n",
              "    </tr>\n",
              "    <tr>\n",
              "      <th>29</th>\n",
              "      <td>8ACL_M3</td>\n",
              "    </tr>\n",
              "    <tr>\n",
              "      <th>30</th>\n",
              "      <td>8ACL_M3_CL</td>\n",
              "    </tr>\n",
              "    <tr>\n",
              "      <th>31</th>\n",
              "      <td>8ACL_M6</td>\n",
              "    </tr>\n",
              "    <tr>\n",
              "      <th>32</th>\n",
              "      <td>8ACL_M6_CL</td>\n",
              "    </tr>\n",
              "    <tr>\n",
              "      <th>33</th>\n",
              "      <td>8ACL_M7</td>\n",
              "    </tr>\n",
              "    <tr>\n",
              "      <th>34</th>\n",
              "      <td>8ACL_M7_CL</td>\n",
              "    </tr>\n",
              "    <tr>\n",
              "      <th>35</th>\n",
              "      <td>8ACL_M8</td>\n",
              "    </tr>\n",
              "    <tr>\n",
              "      <th>36</th>\n",
              "      <td>8ACL_M8_CL</td>\n",
              "    </tr>\n",
              "    <tr>\n",
              "      <th>37</th>\n",
              "      <td>8C_M1_left</td>\n",
              "    </tr>\n",
              "    <tr>\n",
              "      <th>38</th>\n",
              "      <td>8C_M1_right</td>\n",
              "    </tr>\n",
              "    <tr>\n",
              "      <th>39</th>\n",
              "      <td>8C_M2 left</td>\n",
              "    </tr>\n",
              "    <tr>\n",
              "      <th>40</th>\n",
              "      <td>8C_M2 right</td>\n",
              "    </tr>\n",
              "    <tr>\n",
              "      <th>41</th>\n",
              "      <td>8C_M3 left</td>\n",
              "    </tr>\n",
              "    <tr>\n",
              "      <th>42</th>\n",
              "      <td>8C_M3 right</td>\n",
              "    </tr>\n",
              "    <tr>\n",
              "      <th>43</th>\n",
              "      <td>8C_M4_left</td>\n",
              "    </tr>\n",
              "    <tr>\n",
              "      <th>44</th>\n",
              "      <td>8C_M4_right</td>\n",
              "    </tr>\n",
              "  </tbody>\n",
              "</table>\n",
              "</div>"
            ],
            "text/plain": [
              "              0\n",
              "0       2ACL_M1\n",
              "1    2ACL_M1_CL\n",
              "2       2ACL_M2\n",
              "3    2ACL_M2_CL\n",
              "4       2ACL_M3\n",
              "5    2ACL_M3_CL\n",
              "6       2ACL_M4\n",
              "7    2ACL_M4_CL\n",
              "8       2ACL_M5\n",
              "9       2ACL_M6\n",
              "10   2ACL_M6_CL\n",
              "11      2ACL_M7\n",
              "12   2ACL_M7_CL\n",
              "13      2ACL_M8\n",
              "14   2ACL_M8_CL\n",
              "15      2ACL_O5\n",
              "16   2ACL_O5_CL\n",
              "17        2C_M1\n",
              "18        2C_M2\n",
              "19        2C_M3\n",
              "20        2C_M4\n",
              "21        2C_M5\n",
              "22        2C_M6\n",
              "23        2C_M7\n",
              "24        2C_M8\n",
              "25      8ACL_M1\n",
              "26   8ACL_M1_CL\n",
              "27      8ACL_M2\n",
              "28   8ACL_M2_CL\n",
              "29      8ACL_M3\n",
              "30   8ACL_M3_CL\n",
              "31      8ACL_M6\n",
              "32   8ACL_M6_CL\n",
              "33      8ACL_M7\n",
              "34   8ACL_M7_CL\n",
              "35      8ACL_M8\n",
              "36   8ACL_M8_CL\n",
              "37   8C_M1_left\n",
              "38  8C_M1_right\n",
              "39   8C_M2 left\n",
              "40  8C_M2 right\n",
              "41   8C_M3 left\n",
              "42  8C_M3 right\n",
              "43   8C_M4_left\n",
              "44  8C_M4_right"
            ]
          },
          "metadata": {
            "tags": []
          },
          "execution_count": 6
        }
      ]
    },
    {
      "cell_type": "markdown",
      "metadata": {
        "id": "Vzh3fK0V5xdn",
        "colab_type": "text"
      },
      "source": [
        "### Sample groups in list\n",
        "\n",
        "List indices for the following samples (**Note: deduct 1 to index**): \n",
        "\n",
        "|Sample      |   indices|\n",
        "|------------|-----------|\n",
        "|2 weeks ACLT (a2) | 1,3,5,7,9,10,12,14,16|\n",
        "|2 weeks CL (c2)   | 2,4,6,8,11,13,15,17|\n",
        "|2 weeks CNTRL (n2)| 18,19,20,21,22,23,24,25|\n",
        "                 |                       |\n",
        "|8 weeks ACLT (a8)| 26,28,30,32,34,36|\n",
        "|8 weeks CL (c8)| 27,29,31,33,35,37|\n",
        "|8 weeks CNTRL (n8)| 38,39,40,41,42,43,44,45|"
      ]
    },
    {
      "cell_type": "code",
      "metadata": {
        "id": "L9v_3BPI5xdn",
        "colab_type": "code",
        "colab": {}
      },
      "source": [
        "# Split data by animals\n",
        "data_grouped = dict(tuple(data.groupby('animals')))\n",
        "\n",
        "list_data_grouped = [data_grouped[x] for x in data_grouped]"
      ],
      "execution_count": 0,
      "outputs": []
    },
    {
      "cell_type": "markdown",
      "metadata": {
        "id": "ElIE5I0G5xdp",
        "colab_type": "text"
      },
      "source": [
        "### Aim 1: Can we distinguish between ACLT, CL and CNTRL samples based solely on NIR spectra\n",
        "\n",
        "Here, we investigate the capacity of NIR spectroscopy to distinguish between ACLT, CL and CNTRL samples. The samples are divided into training (80%) and test (20%) animals."
      ]
    },
    {
      "cell_type": "code",
      "metadata": {
        "id": "Q7HSoS_t5xdq",
        "colab_type": "code",
        "colab": {}
      },
      "source": [
        "# Divide data into training and test animals by list indices\n",
        "# Training animals\n",
        "#ACLT\n",
        "train_idx_a2 = [1,3,5,7,12,14,16]\n",
        "train_idx_a8 = [28,30,32,34,36]\n",
        "#CL\n",
        "train_idx_c2 = [2,4,6,13,15,17]\n",
        "train_idx_c8 = [29,31,33,35,37]\n",
        "# CNTRL\n",
        "train_idx_n2 = [18,19,20,21,22,23,25]\n",
        "train_idx_n8 = [38,39,40,41,42,43]\n",
        "\n",
        "# Test animals\n",
        "#ACLT\n",
        "test_idx_a2 = [9,10] \n",
        "test_idx_a8 = [26] \n",
        "#CL\n",
        "test_idx_c2 = [8,11]\n",
        "test_idx_c8 = [27] \n",
        "# CNTRL\n",
        "test_idx_n2 = [24] \n",
        "test_idx_n8 = [44,45] "
      ],
      "execution_count": 0,
      "outputs": []
    },
    {
      "cell_type": "code",
      "metadata": {
        "id": "8FsXRz8Y5xds",
        "colab_type": "code",
        "colab": {}
      },
      "source": [
        "# Concatenate data from the samples\n",
        "\n",
        "train_a2 = pd.DataFrame(columns=data.columns)\n",
        "for x in train_idx_a2:\n",
        "    train_a2 = train_a2.append(list_data_grouped[x-1], ignore_index=True)\n",
        "            \n",
        "train_a8 = pd.DataFrame(columns=data.columns)\n",
        "for x in train_idx_a8:\n",
        "    train_a8 = train_a8.append(list_data_grouped[x-1], ignore_index=True)   \n",
        "    \n",
        "\n",
        "train_c2 = pd.DataFrame(columns=data.columns)\n",
        "for x in train_idx_c2:\n",
        "    train_c2 = train_c2.append(list_data_grouped[x-1], ignore_index=True)\n",
        "            \n",
        "train_c8 = pd.DataFrame(columns=data.columns)\n",
        "for x in train_idx_c8:\n",
        "    train_c8 = train_c8.append(list_data_grouped[x-1], ignore_index=True)  \n",
        "\n",
        "\n",
        "train_n2 = pd.DataFrame(columns=data.columns)\n",
        "for x in train_idx_n2:\n",
        "    train_n2 = train_n2.append(list_data_grouped[x-1], ignore_index=True)\n",
        "\n",
        "train_n8 = pd.DataFrame(columns=data.columns)\n",
        "for x in train_idx_n8:\n",
        "    train_n8 = train_n8.append(list_data_grouped[x-1], ignore_index=True)\n",
        "\n",
        "#################====================================#####################    \n",
        "    \n",
        "test_a2 = pd.DataFrame(columns=data.columns)\n",
        "for x in test_idx_a2:\n",
        "    test_a2 = test_a2.append(list_data_grouped[x-1], ignore_index=True)\n",
        "\n",
        "test_a8 = pd.DataFrame(columns=data.columns)\n",
        "for x in test_idx_a8:\n",
        "    test_a8 = test_a8.append(list_data_grouped[x-1], ignore_index=True)\n",
        "    \n",
        "\n",
        "test_c2 = pd.DataFrame(columns=data.columns)\n",
        "for x in test_idx_c2:\n",
        "    test_c2 = test_c2.append(list_data_grouped[x-1], ignore_index=True)\n",
        "\n",
        "test_c8 = pd.DataFrame(columns=data.columns)\n",
        "for x in test_idx_c8:\n",
        "    test_c8 = test_c8.append(list_data_grouped[x-1], ignore_index=True)\n",
        "    \n",
        "    \n",
        "test_n2 = pd.DataFrame(columns=data.columns)\n",
        "for x in test_idx_n2:\n",
        "    test_n2 = test_n2.append(list_data_grouped[x-1], ignore_index=True)\n",
        "\n",
        "test_n8 = pd.DataFrame(columns=data.columns)\n",
        "for x in test_idx_n8:\n",
        "    test_n8 = test_n8.append(list_data_grouped[x-1], ignore_index=True)"
      ],
      "execution_count": 0,
      "outputs": []
    },
    {
      "cell_type": "code",
      "metadata": {
        "id": "QrgQiS9a5xdu",
        "colab_type": "code",
        "colab": {},
        "outputId": "92d76116-162f-4db3-808a-82c4a0aee9cd"
      },
      "source": [
        "print('Sizes of 2 and 8 weeks ACLT training samples ==>>',train_a2.shape,'and',train_a8.shape)\n",
        "print('Sizes of 2 and 8 weeks CNTRL training samples ==>>',train_n2.shape,'and',train_n8.shape)\n",
        "print('Sizes of 2 and 8 weeks ACLT training samples ==>>',train_c2.shape,'and',train_c8.shape)\n",
        "\n",
        "print('Sizes of 2 and 8 weeks ACLT test samples ==>>',test_a2.shape,'and',test_a8.shape)\n",
        "print('Sizes of 2 and 8 weeks CNTRL test samples ==>>',test_n2.shape,'and',test_n8.shape)\n",
        "print('Sizes of 2 and 8 weeks CNTRL test samples ==>>',test_c2.shape,'and',test_c8.shape)"
      ],
      "execution_count": 0,
      "outputs": [
        {
          "output_type": "stream",
          "text": [
            "Sizes of 2 and 8 weeks ACLT training samples ==>> (49, 246) and (35, 246)\n",
            "Sizes of 2 and 8 weeks CNTRL training samples ==>> (47, 246) and (42, 246)\n",
            "Sizes of 2 and 8 weeks ACLT training samples ==>> (41, 246) and (35, 246)\n",
            "Sizes of 2 and 8 weeks ACLT test samples ==>> (14, 246) and (7, 246)\n",
            "Sizes of 2 and 8 weeks CNTRL test samples ==>> (7, 246) and (15, 246)\n",
            "Sizes of 2 and 8 weeks CNTRL test samples ==>> (14, 246) and (7, 246)\n"
          ],
          "name": "stdout"
        }
      ]
    },
    {
      "cell_type": "code",
      "metadata": {
        "id": "EqESuiib5xdw",
        "colab_type": "code",
        "colab": {},
        "outputId": "ce31d22d-7ff1-454f-a30f-24451de5a726"
      },
      "source": [
        "# Combine training and test samples for different comparison groups\n",
        "\n",
        "train = pd.concat([train_a2,train_a8,train_c2,train_c8,train_n2,train_n8],axis=0,ignore_index=True)\n",
        "test = pd.concat([test_a2,test_a8,test_c2,test_c8,test_n2,test_n8],axis=0,ignore_index=True)\n",
        "\n",
        "\n",
        "print('Size of training sets:',train.shape)\n",
        "print('Size of test sets:',test.shape)\n",
        "\n",
        "# Save data as csv\n",
        "#train.to_csv('spectra/all_aclt_cntrl_train.csv', header=True, index=False, sep=',')\n",
        "#test.to_csv('spectra/all_aclt_cntrl_test.csv', header=True, index=False, sep=',')"
      ],
      "execution_count": 0,
      "outputs": [
        {
          "output_type": "stream",
          "text": [
            "Size of training sets: (249, 246)\n",
            "Size of test sets: (64, 246)\n"
          ],
          "name": "stdout"
        }
      ]
    },
    {
      "cell_type": "code",
      "metadata": {
        "id": "UGhv7d4c5xdz",
        "colab_type": "code",
        "colab": {},
        "outputId": "4bb32816-4af3-4f59-d7c9-db7dfda3d2de"
      },
      "source": [
        "X_train = train.drop(['animals','integrity'], axis=1)\n",
        "X_test = test.drop(['animals','integrity'], axis=1)\n",
        "\n",
        "y_train = train['integrity']\n",
        "y_test = test['integrity']\n",
        "\n",
        "\n",
        "print('Training feature and label dimension ACLT_CNTRL==>>',X_train.shape, y_train.shape)"
      ],
      "execution_count": 0,
      "outputs": [
        {
          "output_type": "stream",
          "text": [
            "Training feature and label dimension ACLT_CNTRL==>> (249, 244) (249,)\n"
          ],
          "name": "stdout"
        }
      ]
    },
    {
      "cell_type": "code",
      "metadata": {
        "id": "EhBWUyqw5xd2",
        "colab_type": "code",
        "colab": {},
        "outputId": "c9a0a9ab-a55c-4442-9034-0f1bf4bd2ba0"
      },
      "source": [
        "# Create feature list (i.e., column names)\n",
        "\n",
        "wavelength = X_train.columns\n",
        "\n",
        "# Convert list to numpy array: necessary for data visualization\n",
        "wave = []\n",
        "for x in range(len(wavelength)):\n",
        "    wave.append(float(wavelength[x]))\n",
        "    \n",
        "wave = np.array(wave, dtype=float)  \n",
        "wave.shape\n"
      ],
      "execution_count": 0,
      "outputs": [
        {
          "output_type": "execute_result",
          "data": {
            "text/plain": [
              "(244,)"
            ]
          },
          "metadata": {
            "tags": []
          },
          "execution_count": 13
        }
      ]
    },
    {
      "cell_type": "code",
      "metadata": {
        "id": "HAQa7zKx5xd5",
        "colab_type": "code",
        "colab": {}
      },
      "source": [
        "# Let's visualize some spectra\n",
        "num_plots = 15\n",
        "train_features = train_features.values\n",
        "test_features = test_features.values\n",
        "\n",
        "for x in range(num_plots):\n",
        "    plt.plot(wave,train_features[x,:],'r')\n",
        "    \n",
        "for x in range(num_plots):\n",
        "    plt.plot(wave,test_features[x,:],'b')\n",
        "    \n",
        "plt.xlabel('Wavelength (nm)')\n",
        "plt.ylabel('Absorbance (AU)')\n",
        "plt.title('Spectral plots of some training and test rabbit samples')\n",
        "plt.show()\n"
      ],
      "execution_count": 0,
      "outputs": []
    },
    {
      "cell_type": "code",
      "metadata": {
        "id": "K5fueq5U5xd6",
        "colab_type": "code",
        "colab": {},
        "outputId": "3b814199-23ba-4799-95f9-67ca5ff5a383"
      },
      "source": [
        "# Spectral preprocessing based on Savitzky-Golay filtering\n",
        "'''\n",
        "Let's apply some smoothing filter of:\n",
        "    - window_length = 9 \n",
        "    - polynomial_degree = 2 \n",
        "    - Use the defaults for all other parameters.\n",
        "'''\n",
        "\n",
        "X_train_sm = savgol_filter(X_train, 9, 2, deriv=0, axis=0)\n",
        "X_test_sm = savgol_filter(X_test, 9, 2, deriv=0, axis=0)\n",
        "\n",
        "X_train_d1 = savgol_filter(X_train, 9, 2, deriv=1, axis=0)\n",
        "X_test_d1 = savgol_filter(X_test, 9, 2, deriv=1, axis=0)\n",
        "\n",
        "X_train_sm.shape"
      ],
      "execution_count": 0,
      "outputs": [
        {
          "output_type": "execute_result",
          "data": {
            "text/plain": [
              "(249, 244)"
            ]
          },
          "metadata": {
            "tags": []
          },
          "execution_count": 14
        }
      ]
    },
    {
      "cell_type": "code",
      "metadata": {
        "id": "sCdHUGLj5xd9",
        "colab_type": "code",
        "colab": {}
      },
      "source": [
        "# Let's visualize the smoothed spectra\n",
        "num_plots = 15\n",
        "\n",
        "for x in range(num_plots):\n",
        "    plt.plot(wave,train_features_sm[x,:],'r')\n",
        "    \n",
        "for x in range(num_plots):\n",
        "    plt.plot(wave,test_features_sm[x,:],'b')\n",
        "    \n",
        "plt.xlabel('Wavelength (nm)')\n",
        "plt.ylabel('Absorbance (AU)')\n",
        "plt.title('Smoothed spectral plots of some training and test rabbit samples')\n",
        "plt.show()"
      ],
      "execution_count": 0,
      "outputs": []
    },
    {
      "cell_type": "code",
      "metadata": {
        "id": "aeB_PGug5xd_",
        "colab_type": "code",
        "colab": {},
        "outputId": "077e2e96-d10a-40eb-d4da-0c2c1586f703"
      },
      "source": [
        "# Trim spectra: 1000 - 1900 nm\n",
        "a = np.where(wave == 995.43) #a = np.where(wave == 1047.7)\n",
        "b = np.where(wave == 1899.5)\n",
        "print(a[0][0], b[0][0])\n",
        "\n",
        "X_train_sm = X_train_sm[:,a[0][0]:b[0][0]]\n",
        "X_test_sm = X_test_sm[:,a[0][0]:b[0][0]]\n",
        "\n",
        "X_train_d1 = X_train_d1[:,a[0][0]:b[0][0]]\n",
        "X_test_d1 = X_test_d1[:,a[0][0]:b[0][0]]\n",
        "\n",
        "wave_trim = wave[a[0][0]:b[0][0]]\n",
        "\n",
        "print(X_train_sm.shape, X_train_d1.shape)"
      ],
      "execution_count": 0,
      "outputs": [
        {
          "output_type": "stream",
          "text": [
            "8 148\n",
            "(249, 140) (249, 140)\n"
          ],
          "name": "stdout"
        }
      ]
    },
    {
      "cell_type": "code",
      "metadata": {
        "id": "E5o-WYzo5xeC",
        "colab_type": "code",
        "colab": {}
      },
      "source": [
        "# Let's visualize the trimmed spectra\n",
        "num_plots = 35\n",
        "\n",
        "for x in range(num_plots):\n",
        "    plt.plot(wave_trim,X_train_sm[x,:],'r')\n",
        "    \n",
        "for x in range(num_plots):\n",
        "    plt.plot(wave_trim,X_test_sm[x,:],'b')\n",
        "    \n",
        "plt.xlim(right=1900, left=1000)\n",
        "plt.ylim(top=4, bottom=0.5)\n",
        "plt.xlabel('Wavelength (nm)')\n",
        "plt.ylabel('Absorbance (AU)')\n",
        "plt.title('Spectral plots of some training and test rabbit samples')\n",
        "plt.show()"
      ],
      "execution_count": 0,
      "outputs": []
    },
    {
      "cell_type": "code",
      "metadata": {
        "id": "2Sz2_El85xeE",
        "colab_type": "code",
        "colab": {},
        "outputId": "30c71425-924c-4e02-ab04-4cc6b14510b8"
      },
      "source": [
        "# Convert test labels into array for modeling\n",
        "\n",
        "le = preprocessing.LabelEncoder()\n",
        "le.fit(y_train)\n",
        "print('label classes ==>>',le.classes_)\n",
        "\n",
        "y_train_label = le.transform(y_train)\n",
        "y_test_label = le.transform(y_test)\n",
        "\n",
        "y_test_label\n",
        "# Save data as csv\n",
        "# np.savetxt('spectra/aclt_cntrl_train_label.csv', y_train_label, delimiter=',')\n",
        "# np.savetxt('spectra/aclt_cntrl_test_label.csv', y_test_label, delimiter=',')\n"
      ],
      "execution_count": 0,
      "outputs": [
        {
          "output_type": "stream",
          "text": [
            "label classes ==>> ['A' 'C' 'N']\n"
          ],
          "name": "stdout"
        }
      ]
    },
    {
      "cell_type": "code",
      "metadata": {
        "id": "JA3a3tO25xeH",
        "colab_type": "code",
        "colab": {},
        "outputId": "ce40351b-ac40-449d-f081-248f1ed62089"
      },
      "source": [
        "y_test_label"
      ],
      "execution_count": 0,
      "outputs": [
        {
          "output_type": "execute_result",
          "data": {
            "text/plain": [
              "array([0, 0, 0, 0, 0, 0, 0, 0, 0, 0, 0, 0, 0, 0, 0, 0, 0, 0, 0, 0, 0, 1,\n",
              "       1, 1, 1, 1, 1, 1, 1, 1, 1, 1, 1, 1, 1, 1, 1, 1, 1, 1, 1, 1, 2, 2,\n",
              "       2, 2, 2, 2, 2, 2, 2, 2, 2, 2, 2, 2, 2, 2, 2, 2, 2, 2, 2, 2])"
            ]
          },
          "metadata": {
            "tags": []
          },
          "execution_count": 17
        }
      ]
    },
    {
      "cell_type": "markdown",
      "metadata": {
        "id": "aHsUJv__5xeI",
        "colab_type": "text"
      },
      "source": [
        "## Create Classification Models\n",
        "\n",
        "The following algorithms will be used to develop models for classification of ACLT and CNTRL cartilage samples from their NIR spectra. The models' their hyper-parameters will be tuned using with GridSearchCV.\n",
        "\n",
        "- Support Vector Classifier \n",
        "    1. With smoothed features\n",
        "    2. With dimension-reduced latent variables\n",
        " \n",
        " \n",
        "- Logistic Regression\n",
        "\n",
        "\n",
        "- Deep Learning Network Classifier\n",
        "\n",
        "    "
      ]
    },
    {
      "cell_type": "markdown",
      "metadata": {
        "id": "nMUTNJNT5xeJ",
        "colab_type": "text"
      },
      "source": [
        "## 1. Support Vector Classification"
      ]
    },
    {
      "cell_type": "code",
      "metadata": {
        "id": "7zdv83pH5xeK",
        "colab_type": "code",
        "colab": {},
        "outputId": "89a6ab14-0c8e-47a0-bf98-899cea1d44fd"
      },
      "source": [
        "'''\n",
        "Support Vector Classification with GridSearch \n",
        "Parameters will be set by cross-validation (GridSearchCV)\n",
        ": Training features = smoothed spectra\n",
        "''' \n",
        "\n",
        "tuned_parameters = [\n",
        "    {'kernel': ['rbf'], 'gamma': [1e-3, 1e-4],'C': [1, 10, 100, 1000]},\n",
        "    {'kernel': ['linear'], 'C': [1, 10, 20,100]},\n",
        "    {'kernel': ['sigmoid'], 'C': [1, 10, 100, 1000]}\n",
        "    ]\n",
        "\n",
        "scores = ['precision', 'recall']\n",
        "classes = ['ACLT', 'CL', 'CNTRL']\n",
        "\n",
        "for score in scores:\n",
        "    print(\"# Tuning hyper-parameters for %s\" % score)\n",
        "    print()\n",
        "\n",
        "    clf = GridSearchCV(SVC(), tuned_parameters, cv=5,\n",
        "                       scoring='%s_macro' % score)\n",
        "    clf.fit(X_train_d1, y_train_label)\n",
        "\n",
        "    print(\"Best parameters set found on development set:\")\n",
        "    print()\n",
        "    print(clf.best_params_)\n",
        "    print()\n",
        "    print(\"Grid scores on development set:\")\n",
        "    print()\n",
        "    \n",
        "    means = clf.cv_results_['mean_test_score']\n",
        "    stds = clf.cv_results_['std_test_score']\n",
        "    \n",
        "    for mean, std, params in zip(means, stds, clf.cv_results_['params']):\n",
        "        print(\"%0.3f (+/-%0.03f) for %r\"\n",
        "              % (mean, std * 2, params))\n",
        "    print()\n",
        "\n",
        "    print(\"Detailed classification report:\")\n",
        "    print()\n",
        "    print(\"The model is trained on the full development set.\")\n",
        "    print(\"The scores are computed on the full evaluation set.\")\n",
        "    print()\n",
        "    \n",
        "    # evaluate model on same training set\n",
        "    y_true, y_pred = y_train_label, clf.predict(X_train_d1)\n",
        "    \n",
        "    print(classification_report(y_true, y_pred,target_names = classes))\n",
        "    cm = confusion_matrix(y_true, y_pred)\n",
        "    # Plot non-normalized confusion matrix\n",
        "    plt.figure()\n",
        "    plot_confusion_matrix(cm, classes=classes,# normalize=True\n",
        "                          title='CM of model estimation on training data')\n",
        "    plt.show()\n",
        "    print()\n",
        "    "
      ],
      "execution_count": 0,
      "outputs": [
        {
          "output_type": "stream",
          "text": [
            "# Tuning hyper-parameters for precision\n",
            "\n",
            "Best parameters set found on development set:\n",
            "\n",
            "{'C': 20, 'kernel': 'linear'}\n",
            "\n",
            "Grid scores on development set:\n",
            "\n",
            "0.119 (+/-0.002) for {'C': 1, 'gamma': 0.001, 'kernel': 'rbf'}\n",
            "0.119 (+/-0.002) for {'C': 1, 'gamma': 0.0001, 'kernel': 'rbf'}\n",
            "0.119 (+/-0.002) for {'C': 10, 'gamma': 0.001, 'kernel': 'rbf'}\n",
            "0.119 (+/-0.002) for {'C': 10, 'gamma': 0.0001, 'kernel': 'rbf'}\n",
            "0.119 (+/-0.002) for {'C': 100, 'gamma': 0.001, 'kernel': 'rbf'}\n",
            "0.119 (+/-0.002) for {'C': 100, 'gamma': 0.0001, 'kernel': 'rbf'}\n",
            "0.113 (+/-0.016) for {'C': 1000, 'gamma': 0.001, 'kernel': 'rbf'}\n",
            "0.119 (+/-0.002) for {'C': 1000, 'gamma': 0.0001, 'kernel': 'rbf'}\n",
            "0.115 (+/-0.017) for {'C': 1, 'kernel': 'linear'}\n",
            "0.179 (+/-0.286) for {'C': 10, 'kernel': 'linear'}\n",
            "0.226 (+/-0.218) for {'C': 20, 'kernel': 'linear'}\n",
            "0.173 (+/-0.121) for {'C': 100, 'kernel': 'linear'}\n",
            "0.119 (+/-0.002) for {'C': 1, 'kernel': 'sigmoid'}\n",
            "0.119 (+/-0.002) for {'C': 10, 'kernel': 'sigmoid'}\n",
            "0.116 (+/-0.013) for {'C': 100, 'kernel': 'sigmoid'}\n",
            "0.178 (+/-0.281) for {'C': 1000, 'kernel': 'sigmoid'}\n",
            "\n",
            "Detailed classification report:\n",
            "\n",
            "The model is trained on the full development set.\n",
            "The scores are computed on the full evaluation set.\n",
            "\n",
            "              precision    recall  f1-score   support\n",
            "\n",
            "        ACLT       0.40      0.20      0.27        84\n",
            "          CL       0.40      0.08      0.13        76\n",
            "       CNTRL       0.39      0.84      0.54        89\n",
            "\n",
            "   micro avg       0.39      0.39      0.39       249\n",
            "   macro avg       0.40      0.37      0.31       249\n",
            "weighted avg       0.40      0.39      0.32       249\n",
            "\n",
            "Confusion matrix, without normalization\n",
            "[[17  6 61]\n",
            " [15  6 55]\n",
            " [11  3 75]]\n"
          ],
          "name": "stdout"
        },
        {
          "output_type": "display_data",
          "data": {
            "image/png": "[encoded data removed]",
            "text/plain": [
              "<Figure size 432x288 with 2 Axes>"
            ]
          },
          "metadata": {
            "tags": [],
            "needs_background": "light"
          }
        },
        {
          "output_type": "stream",
          "text": [
            "\n",
            "# Tuning hyper-parameters for recall\n",
            "\n",
            "Best parameters set found on development set:\n",
            "\n",
            "{'C': 1, 'gamma': 0.001, 'kernel': 'rbf'}\n",
            "\n",
            "Grid scores on development set:\n",
            "\n",
            "0.333 (+/-0.000) for {'C': 1, 'gamma': 0.001, 'kernel': 'rbf'}\n",
            "0.333 (+/-0.000) for {'C': 1, 'gamma': 0.0001, 'kernel': 'rbf'}\n",
            "0.333 (+/-0.000) for {'C': 10, 'gamma': 0.001, 'kernel': 'rbf'}\n",
            "0.333 (+/-0.000) for {'C': 10, 'gamma': 0.0001, 'kernel': 'rbf'}\n",
            "0.333 (+/-0.000) for {'C': 100, 'gamma': 0.001, 'kernel': 'rbf'}\n",
            "0.333 (+/-0.000) for {'C': 100, 'gamma': 0.0001, 'kernel': 'rbf'}\n",
            "0.307 (+/-0.067) for {'C': 1000, 'gamma': 0.001, 'kernel': 'rbf'}\n",
            "0.333 (+/-0.000) for {'C': 1000, 'gamma': 0.0001, 'kernel': 'rbf'}\n",
            "0.318 (+/-0.062) for {'C': 1, 'kernel': 'linear'}\n",
            "0.274 (+/-0.169) for {'C': 10, 'kernel': 'linear'}\n",
            "0.200 (+/-0.092) for {'C': 20, 'kernel': 'linear'}\n",
            "0.194 (+/-0.103) for {'C': 100, 'kernel': 'linear'}\n",
            "0.333 (+/-0.000) for {'C': 1, 'kernel': 'sigmoid'}\n",
            "0.333 (+/-0.000) for {'C': 10, 'kernel': 'sigmoid'}\n",
            "0.322 (+/-0.046) for {'C': 100, 'kernel': 'sigmoid'}\n",
            "0.289 (+/-0.122) for {'C': 1000, 'kernel': 'sigmoid'}\n",
            "\n",
            "Detailed classification report:\n",
            "\n",
            "The model is trained on the full development set.\n",
            "The scores are computed on the full evaluation set.\n",
            "\n",
            "              precision    recall  f1-score   support\n",
            "\n",
            "        ACLT       0.00      0.00      0.00        84\n",
            "          CL       0.00      0.00      0.00        76\n",
            "       CNTRL       0.36      1.00      0.53        89\n",
            "\n",
            "   micro avg       0.36      0.36      0.36       249\n",
            "   macro avg       0.12      0.33      0.18       249\n",
            "weighted avg       0.13      0.36      0.19       249\n",
            "\n",
            "Confusion matrix, without normalization\n",
            "[[ 0  0 84]\n",
            " [ 0  0 76]\n",
            " [ 0  0 89]]\n"
          ],
          "name": "stdout"
        },
        {
          "output_type": "display_data",
          "data": {
            "image/png": "[encoded data removed]",
            "text/plain": [
              "<Figure size 432x288 with 2 Axes>"
            ]
          },
          "metadata": {
            "tags": [],
            "needs_background": "light"
          }
        },
        {
          "output_type": "stream",
          "text": [
            "\n"
          ],
          "name": "stdout"
        }
      ]
    },
    {
      "cell_type": "code",
      "metadata": {
        "id": "sxxQU7LN5xeL",
        "colab_type": "code",
        "colab": {}
      },
      "source": [
        "# Build model using optimal parameters\n",
        "clf = SVC(C=20,kernel='linear')\n",
        "clf.fit(X_train_sm, y_train_label)\n",
        "\n",
        "# evaluate model on same training set\n",
        "y_true, y_pred = y_train_label, clf.predict(X_train_sm)\n",
        "y_true = pd.DataFrame(data=y_true)\n",
        "y_pred = pd.DataFrame(data=y_pred)\n",
        "svm_calib_output = pd.concat([y_true, y_pred], axis=1)\n",
        "#svm_calib_output.head(3)\n",
        "#export 'svm_calib_output_cl-cntrl' to csv\n",
        "#print('ROC_AUC = %.2f ' %(roc_auc_score(y_train_label, y_pred)))"
      ],
      "execution_count": 0,
      "outputs": []
    },
    {
      "cell_type": "code",
      "metadata": {
        "id": "vo7kl_xe5xeN",
        "colab_type": "code",
        "colab": {},
        "outputId": "f832510f-7118-4290-b7e9-ba00d82a7cb2"
      },
      "source": [
        "# evaluate model on test set\n",
        "y_true, y_pred = y_test_label, clf.predict(X_test_sm)\n",
        "print(classification_report(y_true, y_pred,target_names = classes))\n",
        "    \n",
        "cm = confusion_matrix(y_true, y_pred)\n",
        "fig = plt.figure()\n",
        "plot_confusion_matrix(cm, classes=classes,# normalize=True\n",
        "                      title='CM of SVM model: smoothed test spectra')\n",
        "plt.show()\n",
        "#fig.savefig('figs/CM_svm_multi-class_9_2_sm.eps', format='eps', dpi=300)\n",
        "\n",
        "y_true = pd.DataFrame(data=y_true)\n",
        "y_pred = pd.DataFrame(data=y_pred)\n",
        "svm_test_output = pd.concat([y_true, y_pred], axis=1)\n",
        "#svm_test_output.head()\n",
        "#export 'svm_test_output_cl-cntrl' to csv\n",
        "#print('ROC_AUC = %.2f, kappa = %.2f' %(roc_auc_score(y_test_label, y_pred), \n",
        "#                                   cohen_kappa_score(y_test_label, y_pred)))"
      ],
      "execution_count": 0,
      "outputs": [
        {
          "output_type": "stream",
          "text": [
            "              precision    recall  f1-score   support\n",
            "\n",
            "        ACLT       0.50      0.71      0.59        21\n",
            "          CL       0.40      0.29      0.33        21\n",
            "       CNTRL       0.79      0.68      0.73        22\n",
            "\n",
            "   micro avg       0.56      0.56      0.56        64\n",
            "   macro avg       0.56      0.56      0.55        64\n",
            "weighted avg       0.57      0.56      0.55        64\n",
            "\n",
            "Confusion matrix, without normalization\n",
            "[[15  5  1]\n",
            " [12  6  3]\n",
            " [ 3  4 15]]\n"
          ],
          "name": "stdout"
        },
        {
          "output_type": "display_data",
          "data": {
            "image/png": "[encoded data removed]",
            "text/plain": [
              "<Figure size 432x288 with 2 Axes>"
            ]
          },
          "metadata": {
            "tags": [],
            "needs_background": "light"
          }
        }
      ]
    },
    {
      "cell_type": "code",
      "metadata": {
        "id": "iSJ9n9d65xeP",
        "colab_type": "code",
        "colab": {}
      },
      "source": [
        "y_true, y_pred = y_test_label, clf.predict(X_test_sm)\n",
        "print(classification_report(y_true, y_pred,target_names = classes))"
      ],
      "execution_count": 0,
      "outputs": []
    },
    {
      "cell_type": "markdown",
      "metadata": {
        "id": "a_IFZ-sH5xeQ",
        "colab_type": "text"
      },
      "source": [
        "### Visualize the most important spectral variables (features) to the classifier?"
      ]
    },
    {
      "cell_type": "code",
      "metadata": {
        "id": "v-zx0w9C5xeR",
        "colab_type": "code",
        "colab": {}
      },
      "source": [
        "coef = clf.coef_[0]\n",
        "#coef.shape\n",
        "coef_sc = coef/np.max(coef)"
      ],
      "execution_count": 0,
      "outputs": []
    },
    {
      "cell_type": "code",
      "metadata": {
        "id": "rE6-UzYh5xeS",
        "colab_type": "code",
        "colab": {},
        "outputId": "1a54ad3c-b493-4f83-8caf-93518f6a410a"
      },
      "source": [
        "fig = plt.figure()\n",
        "plt.plot(wave_trim,coef)\n",
        "    \n",
        "plt.xlim(right=1900, left=1000)\n",
        "plt.xlabel('Wavelength (nm)')\n",
        "plt.ylabel('Feature Importance')\n",
        "plt.title('SVM Classifier Feature Importance')\n",
        "plt.show()\n",
        "\n",
        "fig.savefig('figs/FeatImp_svm_aclt-cntrl_9_2_sm.png', format='png', dpi=600)"
      ],
      "execution_count": 0,
      "outputs": [
        {
          "output_type": "display_data",
          "data": {
            "image/png": "[encoded data removed]",
            "text/plain": [
              "<Figure size 432x288 with 1 Axes>"
            ]
          },
          "metadata": {
            "tags": [],
            "needs_background": "light"
          }
        }
      ]
    },
    {
      "cell_type": "markdown",
      "metadata": {
        "id": "-bw8XdjO5xeU",
        "colab_type": "text"
      },
      "source": [
        "#### Using latent variables\n",
        " \n",
        "Latent variables, based on principal component analysis, will now be used instead of the actual variables"
      ]
    },
    {
      "cell_type": "code",
      "metadata": {
        "id": "_9KBx0VA5xeV",
        "colab_type": "code",
        "colab": {},
        "outputId": "7f644655-212c-4eda-a3c6-1eccc9268955"
      },
      "source": [
        "# Fit to data and predict using pipelined scaling and PCA (with 8 components).\n",
        "std_clf = make_pipeline(StandardScaler(), PCA(n_components=8))\n",
        "std_clf.fit(X_train_sm)\n",
        "\n",
        "# Extract PCA from pipeline\n",
        "pca_std = std_clf.named_steps['pca']\n",
        "\n",
        "# 1st PCA axis (basically, loadings directions)\n",
        "#X_train_sm_ax = pca_std.components[0]\n",
        "#print('\\nPC 1 with scaling:\\n', X_train_sm_ax)\n",
        "\n",
        "# Scale and use PCA on train and test features \n",
        "scaler = std_clf.named_steps['standardscaler']\n",
        "X_train_sm_sc = pca_std.transform(scaler.transform(X_train_sm))\n",
        "X_test_sm_sc = pca_std.transform(scaler.transform(X_test_sm))\n",
        "\n",
        "print(X_train_sm_sc.shape, X_test_sm_sc.shape)"
      ],
      "execution_count": 0,
      "outputs": [
        {
          "output_type": "stream",
          "text": [
            "(249, 8) (64, 8)\n"
          ],
          "name": "stdout"
        }
      ]
    },
    {
      "cell_type": "code",
      "metadata": {
        "id": "9IqwQlWp5xeX",
        "colab_type": "code",
        "colab": {},
        "outputId": "01234b72-53ba-437f-cf4c-c8f79fa4bb5b"
      },
      "source": [
        "print(pca_std.components_.shape)\n",
        "print(X_train_sm.shape)\n",
        "pca_std.explained_variance_ratio_\n"
      ],
      "execution_count": 0,
      "outputs": [
        {
          "output_type": "stream",
          "text": [
            "(8, 140)\n",
            "(249, 140)\n"
          ],
          "name": "stdout"
        },
        {
          "output_type": "execute_result",
          "data": {
            "text/plain": [
              "array([0.73709741, 0.09168545, 0.0600995 , 0.0297533 , 0.01108275,\n",
              "       0.00989756, 0.00718678, 0.00523911])"
            ]
          },
          "metadata": {
            "tags": []
          },
          "execution_count": 114
        }
      ]
    },
    {
      "cell_type": "code",
      "metadata": {
        "id": "dQCiC9jN5xea",
        "colab_type": "code",
        "colab": {},
        "outputId": "09c67f5b-cfc3-4f76-db6f-c32466294c98"
      },
      "source": [
        "'''\n",
        "Support Vector Classification with GridSearch on latent variables based on \n",
        "PCA score with standardization.\n",
        "Parameters will be set by cross-validation (GridSearchCV)\n",
        "''' \n",
        "tuned_parameters = [\n",
        "    {'kernel': ['rbf'], 'gamma': [1e-3, 1e-4],'C': [1, 10, 100, 1000]},\n",
        "    {'kernel': ['linear'], 'C': [1, 10, 20,100]},\n",
        "    {'kernel': ['sigmoid'], 'C': [1, 10, 100, 1000]}\n",
        "    ]\n",
        "\n",
        "scores = ['precision', 'recall']\n",
        "classes = ['ACLT', 'CL', 'CNTRL']\n",
        "\n",
        "for score in scores:\n",
        "    print(\"# Tuning hyper-parameters for %s\" % score)\n",
        "    print()\n",
        "\n",
        "    clf = GridSearchCV(SVC(), tuned_parameters, cv=5,\n",
        "                       scoring='%s_macro' % score)\n",
        "    clf.fit(X_train_sm_sc, y_train_label)\n",
        "\n",
        "    print(\"Best parameters set found on development set:\")\n",
        "    print()\n",
        "    print(clf.best_params_)\n",
        "    print()\n",
        "    print(\"Grid scores on development set:\")\n",
        "    print()\n",
        "    \n",
        "    means = clf.cv_results_['mean_test_score']\n",
        "    stds = clf.cv_results_['std_test_score']\n",
        "    \n",
        "    for mean, std, params in zip(means, stds, clf.cv_results_['params']):\n",
        "        print(\"%0.3f (+/-%0.03f) for %r\"\n",
        "              % (mean, std * 2, params))\n",
        "    print()\n",
        "\n",
        "    print(\"Detailed classification report:\")\n",
        "    print()\n",
        "    print(\"The model is trained on the full development set.\")\n",
        "    print(\"The scores are computed on the full evaluation set.\")\n",
        "    print()\n",
        "    # evaluate model on same training set\n",
        "    y_true, y_pred = y_train_label, clf.predict(X_train_sm_sc)\n",
        "    print(classification_report(y_true, y_pred,target_names = classes))\n",
        "    \n",
        "    cm = confusion_matrix(y_true, y_pred)\n",
        "    plt.figure()\n",
        "    plot_confusion_matrix(cm, classes=classes,# normalize=True\n",
        "                          title='CM of model estimation on training data')\n",
        "    plt.show()\n",
        "    print()\n"
      ],
      "execution_count": 0,
      "outputs": [
        {
          "output_type": "stream",
          "text": [
            "# Tuning hyper-parameters for precision\n",
            "\n",
            "Best parameters set found on development set:\n",
            "\n",
            "{'C': 100, 'gamma': 0.001, 'kernel': 'rbf'}\n",
            "\n",
            "Grid scores on development set:\n",
            "\n",
            "0.247 (+/-0.134) for {'C': 1, 'gamma': 0.001, 'kernel': 'rbf'}\n",
            "0.116 (+/-0.012) for {'C': 1, 'gamma': 0.0001, 'kernel': 'rbf'}\n",
            "0.375 (+/-0.248) for {'C': 10, 'gamma': 0.001, 'kernel': 'rbf'}\n",
            "0.256 (+/-0.177) for {'C': 10, 'gamma': 0.0001, 'kernel': 'rbf'}\n",
            "0.559 (+/-0.224) for {'C': 100, 'gamma': 0.001, 'kernel': 'rbf'}\n",
            "0.443 (+/-0.295) for {'C': 100, 'gamma': 0.0001, 'kernel': 'rbf'}\n",
            "0.502 (+/-0.392) for {'C': 1000, 'gamma': 0.001, 'kernel': 'rbf'}\n",
            "0.500 (+/-0.303) for {'C': 1000, 'gamma': 0.0001, 'kernel': 'rbf'}\n",
            "0.465 (+/-0.372) for {'C': 1, 'kernel': 'linear'}\n",
            "0.444 (+/-0.375) for {'C': 10, 'kernel': 'linear'}\n",
            "0.442 (+/-0.359) for {'C': 20, 'kernel': 'linear'}\n",
            "0.464 (+/-0.356) for {'C': 100, 'kernel': 'linear'}\n",
            "0.369 (+/-0.150) for {'C': 1, 'kernel': 'sigmoid'}\n",
            "0.384 (+/-0.202) for {'C': 10, 'kernel': 'sigmoid'}\n",
            "0.359 (+/-0.143) for {'C': 100, 'kernel': 'sigmoid'}\n",
            "0.357 (+/-0.147) for {'C': 1000, 'kernel': 'sigmoid'}\n",
            "\n",
            "Detailed classification report:\n",
            "\n",
            "The model is trained on the full development set.\n",
            "The scores are computed on the full evaluation set.\n",
            "\n",
            "              precision    recall  f1-score   support\n",
            "\n",
            "        ACLT       0.75      0.82      0.78        84\n",
            "          CL       0.83      0.83      0.83        76\n",
            "       CNTRL       0.94      0.85      0.89        89\n",
            "\n",
            "   micro avg       0.84      0.84      0.84       249\n",
            "   macro avg       0.84      0.83      0.84       249\n",
            "weighted avg       0.84      0.84      0.84       249\n",
            "\n",
            "Confusion matrix, without normalization\n",
            "[[69 10  5]\n",
            " [13 63  0]\n",
            " [10  3 76]]\n"
          ],
          "name": "stdout"
        },
        {
          "output_type": "display_data",
          "data": {
            "image/png": "[encoded data removed]",
            "text/plain": [
              "<Figure size 432x288 with 2 Axes>"
            ]
          },
          "metadata": {
            "tags": [],
            "needs_background": "light"
          }
        },
        {
          "output_type": "stream",
          "text": [
            "\n",
            "# Tuning hyper-parameters for recall\n",
            "\n",
            "Best parameters set found on development set:\n",
            "\n",
            "{'C': 100, 'gamma': 0.001, 'kernel': 'rbf'}\n",
            "\n",
            "Grid scores on development set:\n",
            "\n",
            "0.374 (+/-0.073) for {'C': 1, 'gamma': 0.001, 'kernel': 'rbf'}\n",
            "0.322 (+/-0.045) for {'C': 1, 'gamma': 0.0001, 'kernel': 'rbf'}\n",
            "0.403 (+/-0.222) for {'C': 10, 'gamma': 0.001, 'kernel': 'rbf'}\n",
            "0.366 (+/-0.126) for {'C': 10, 'gamma': 0.0001, 'kernel': 'rbf'}\n",
            "0.516 (+/-0.244) for {'C': 100, 'gamma': 0.001, 'kernel': 'rbf'}\n",
            "0.459 (+/-0.277) for {'C': 100, 'gamma': 0.0001, 'kernel': 'rbf'}\n",
            "0.512 (+/-0.303) for {'C': 1000, 'gamma': 0.001, 'kernel': 'rbf'}\n",
            "0.485 (+/-0.252) for {'C': 1000, 'gamma': 0.0001, 'kernel': 'rbf'}\n",
            "0.462 (+/-0.286) for {'C': 1, 'kernel': 'linear'}\n",
            "0.445 (+/-0.291) for {'C': 10, 'kernel': 'linear'}\n",
            "0.445 (+/-0.277) for {'C': 20, 'kernel': 'linear'}\n",
            "0.461 (+/-0.262) for {'C': 100, 'kernel': 'linear'}\n",
            "0.355 (+/-0.104) for {'C': 1, 'kernel': 'sigmoid'}\n",
            "0.364 (+/-0.126) for {'C': 10, 'kernel': 'sigmoid'}\n",
            "0.353 (+/-0.109) for {'C': 100, 'kernel': 'sigmoid'}\n",
            "0.353 (+/-0.109) for {'C': 1000, 'kernel': 'sigmoid'}\n",
            "\n",
            "Detailed classification report:\n",
            "\n",
            "The model is trained on the full development set.\n",
            "The scores are computed on the full evaluation set.\n",
            "\n",
            "              precision    recall  f1-score   support\n",
            "\n",
            "        ACLT       0.75      0.82      0.78        84\n",
            "          CL       0.83      0.83      0.83        76\n",
            "       CNTRL       0.94      0.85      0.89        89\n",
            "\n",
            "   micro avg       0.84      0.84      0.84       249\n",
            "   macro avg       0.84      0.83      0.84       249\n",
            "weighted avg       0.84      0.84      0.84       249\n",
            "\n",
            "Confusion matrix, without normalization\n",
            "[[69 10  5]\n",
            " [13 63  0]\n",
            " [10  3 76]]\n"
          ],
          "name": "stdout"
        },
        {
          "output_type": "display_data",
          "data": {
            "image/png": "[encoded data removed]",
            "text/plain": [
              "<Figure size 432x288 with 2 Axes>"
            ]
          },
          "metadata": {
            "tags": [],
            "needs_background": "light"
          }
        },
        {
          "output_type": "stream",
          "text": [
            "\n"
          ],
          "name": "stdout"
        }
      ]
    },
    {
      "cell_type": "code",
      "metadata": {
        "id": "NfC0czMu5xeb",
        "colab_type": "code",
        "colab": {}
      },
      "source": [
        "\n",
        "# Build model using optimal parameters\n",
        "clf = SVC(C=100, gamma=0.001, kernel='rbf') #SVC(C=1, kernel='linear')#\n",
        "clf.fit(X_train_sm_sc, y_train_label)\n",
        "\n",
        "# evaluate model on same training set\n",
        "y_true, y_pred = y_train_label, clf.predict(X_train_sm_sc)\n",
        "y_true = pd.DataFrame(data=y_true)\n",
        "y_pred = pd.DataFrame(data=y_pred)\n",
        "svm_calib_output = pd.concat([y_true, y_pred], axis=1)\n",
        "#svm_calib_output.head(3)\n",
        "#export 'svm_calib_output_cl-cntrl' to csv\n",
        "#print('ROC_AUC = %.2f ' %(roc_auc_score(y_train_label, y_pred)))"
      ],
      "execution_count": 0,
      "outputs": []
    },
    {
      "cell_type": "code",
      "metadata": {
        "id": "DTvDQLeH5xed",
        "colab_type": "code",
        "colab": {},
        "outputId": "634578ff-1bdc-4b9c-a984-019abc94b117"
      },
      "source": [
        "# evaluate model on test set\n",
        "y_true, y_pred = y_test_label, clf.predict(X_test_sm_sc)\n",
        "print(classification_report(y_true, y_pred,target_names = classes))\n",
        "    \n",
        "cm = confusion_matrix(y_true, y_pred)\n",
        "fig = plt.figure()\n",
        "plot_confusion_matrix(cm, classes=classes,# normalize=True\n",
        "                      title='CM of SVM model: latent vars')\n",
        "plt.show()\n",
        "#fig.savefig('figs/CM_svm_multi-class_9_2_sm.eps', format='eps', dpi=300)\n",
        "\n",
        "y_true = pd.DataFrame(data=y_true)\n",
        "y_pred = pd.DataFrame(data=y_pred)\n",
        "svm_test_output = pd.concat([y_true, y_pred], axis=1)\n",
        "#svm_test_output.head()\n",
        "#export 'svm_test_output_cl-cntrl' to csv\n",
        "#print('ROC_AUC = %.2f, kappa = %.2f' %(roc_auc_score(y_test_label, y_pred), \n",
        "#                                   cohen_kappa_score(y_test_label, y_pred)))"
      ],
      "execution_count": 0,
      "outputs": [
        {
          "output_type": "stream",
          "text": [
            "              precision    recall  f1-score   support\n",
            "\n",
            "        ACLT       0.53      0.38      0.44        21\n",
            "          CL       0.40      0.38      0.39        21\n",
            "       CNTRL       0.24      0.32      0.27        22\n",
            "\n",
            "   micro avg       0.36      0.36      0.36        64\n",
            "   macro avg       0.39      0.36      0.37        64\n",
            "weighted avg       0.39      0.36      0.37        64\n",
            "\n",
            "Confusion matrix, without normalization\n",
            "[[ 8  2 11]\n",
            " [ 2  8 11]\n",
            " [ 5 10  7]]\n"
          ],
          "name": "stdout"
        },
        {
          "output_type": "display_data",
          "data": {
            "image/png": "[encoded data removed]",
            "text/plain": [
              "<Figure size 432x288 with 2 Axes>"
            ]
          },
          "metadata": {
            "tags": [],
            "needs_background": "light"
          }
        }
      ]
    },
    {
      "cell_type": "markdown",
      "metadata": {
        "id": "RRI_7p1C5xef",
        "colab_type": "text"
      },
      "source": [
        "SV Classifier is apparently not doing well with latent variables."
      ]
    },
    {
      "cell_type": "markdown",
      "metadata": {
        "id": "Dr9dfyZS5xef",
        "colab_type": "text"
      },
      "source": [
        "## 2. Logistic Regression"
      ]
    },
    {
      "cell_type": "code",
      "metadata": {
        "id": "Cza5xe-e5xef",
        "colab_type": "code",
        "colab": {},
        "outputId": "d8430116-3113-4591-9cfc-c56f37a76746"
      },
      "source": [
        "'''\n",
        "Logistic Regression with parameters set by cross-validation (GridSearchCV)\n",
        "''' \n",
        "tuned_parameters = [{'penalty': ['l1','l2'], 'C': [0.001,0.01,0.1,1,10,100,1000]}]\n",
        "\n",
        "scores = ['precision', 'recall']\n",
        "classes = ['ACLT', 'CL', 'CNTRL']\n",
        "\n",
        "for score in scores:\n",
        "    print(\"# Tuning hyper-parameters for %s\" % score)\n",
        "    print()\n",
        "\n",
        "    clf = GridSearchCV(LogisticRegression(random_state=0), tuned_parameters, cv=5,\n",
        "                       scoring='%s_macro' % score)\n",
        "    clf.fit(X_train_d1, y_train_label)\n",
        "\n",
        "    print(\"Best parameters set found on development set:\")\n",
        "    print()\n",
        "    print(clf.best_params_)\n",
        "    print()\n",
        "    print(\"Grid scores on development set:\")\n",
        "    print()\n",
        "    \n",
        "    means = clf.cv_results_['mean_test_score']\n",
        "    stds = clf.cv_results_['std_test_score']\n",
        "    \n",
        "    for mean, std, params in zip(means, stds, clf.cv_results_['params']):\n",
        "        print(\"%0.3f (+/-%0.03f) for %r\"\n",
        "              % (mean, std * 2, params))\n",
        "    print()\n",
        "\n",
        "    print(\"Detailed classification report:\")\n",
        "    print()\n",
        "    print(\"The model is trained on the full development set.\")\n",
        "    print(\"The scores are computed on the full evaluation set.\")\n",
        "    print()\n",
        "    # evaluate model on same training set\n",
        "    y_true, y_pred = y_train_label, clf.predict(X_train_d1)\n",
        "    print(classification_report(y_true, y_pred,target_names = classes))\n",
        "    \n",
        "    cm = confusion_matrix(y_true, y_pred)\n",
        "    plt.figure()\n",
        "    plot_confusion_matrix(cm, classes=classes,# normalize=True\n",
        "                          title='CM of model estimation on training data')\n",
        "    plt.show()\n",
        "    print()\n"
      ],
      "execution_count": 0,
      "outputs": [
        {
          "output_type": "stream",
          "text": [
            "# Tuning hyper-parameters for precision\n",
            "\n",
            "Best parameters set found on development set:\n",
            "\n",
            "{'C': 1, 'penalty': 'l2'}\n",
            "\n",
            "Grid scores on development set:\n",
            "\n",
            "0.112 (+/-0.002) for {'C': 0.001, 'penalty': 'l1'}\n",
            "0.118 (+/-0.005) for {'C': 0.001, 'penalty': 'l2'}\n",
            "0.112 (+/-0.002) for {'C': 0.01, 'penalty': 'l1'}\n",
            "0.117 (+/-0.009) for {'C': 0.01, 'penalty': 'l2'}\n",
            "0.119 (+/-0.002) for {'C': 0.1, 'penalty': 'l1'}\n",
            "0.149 (+/-0.136) for {'C': 0.1, 'penalty': 'l2'}\n",
            "0.119 (+/-0.002) for {'C': 1, 'penalty': 'l1'}\n",
            "0.252 (+/-0.298) for {'C': 1, 'penalty': 'l2'}\n",
            "0.198 (+/-0.132) for {'C': 10, 'penalty': 'l1'}\n",
            "0.202 (+/-0.176) for {'C': 10, 'penalty': 'l2'}\n",
            "0.107 (+/-0.085) for {'C': 100, 'penalty': 'l1'}\n",
            "0.151 (+/-0.134) for {'C': 100, 'penalty': 'l2'}\n",
            "0.163 (+/-0.168) for {'C': 1000, 'penalty': 'l1'}\n",
            "0.121 (+/-0.074) for {'C': 1000, 'penalty': 'l2'}\n",
            "\n",
            "Detailed classification report:\n",
            "\n",
            "The model is trained on the full development set.\n",
            "The scores are computed on the full evaluation set.\n",
            "\n",
            "              precision    recall  f1-score   support\n",
            "\n",
            "        ACLT       0.40      0.02      0.04        84\n",
            "          CL       0.43      0.20      0.27        76\n",
            "       CNTRL       0.36      0.84      0.50        89\n",
            "\n",
            "   micro avg       0.37      0.37      0.37       249\n",
            "   macro avg       0.40      0.35      0.27       249\n",
            "weighted avg       0.39      0.37      0.28       249\n",
            "\n",
            "Confusion matrix, without normalization\n",
            "[[ 2  7 75]\n",
            " [ 2 15 59]\n",
            " [ 1 13 75]]\n"
          ],
          "name": "stdout"
        },
        {
          "output_type": "display_data",
          "data": {
            "image/png": "[encoded data removed]",
            "text/plain": [
              "<Figure size 432x288 with 2 Axes>"
            ]
          },
          "metadata": {
            "tags": [],
            "needs_background": "light"
          }
        },
        {
          "output_type": "stream",
          "text": [
            "\n",
            "# Tuning hyper-parameters for recall\n",
            "\n",
            "Best parameters set found on development set:\n",
            "\n",
            "{'C': 0.001, 'penalty': 'l1'}\n",
            "\n",
            "Grid scores on development set:\n",
            "\n",
            "0.333 (+/-0.000) for {'C': 0.001, 'penalty': 'l1'}\n",
            "0.330 (+/-0.015) for {'C': 0.001, 'penalty': 'l2'}\n",
            "0.333 (+/-0.000) for {'C': 0.01, 'penalty': 'l1'}\n",
            "0.326 (+/-0.031) for {'C': 0.01, 'penalty': 'l2'}\n",
            "0.333 (+/-0.000) for {'C': 0.1, 'penalty': 'l1'}\n",
            "0.315 (+/-0.060) for {'C': 0.1, 'penalty': 'l2'}\n",
            "0.333 (+/-0.000) for {'C': 1, 'penalty': 'l1'}\n",
            "0.287 (+/-0.101) for {'C': 1, 'penalty': 'l2'}\n",
            "0.222 (+/-0.068) for {'C': 10, 'penalty': 'l1'}\n",
            "0.195 (+/-0.123) for {'C': 10, 'penalty': 'l2'}\n",
            "0.111 (+/-0.078) for {'C': 100, 'penalty': 'l1'}\n",
            "0.167 (+/-0.131) for {'C': 100, 'penalty': 'l2'}\n",
            "0.146 (+/-0.117) for {'C': 1000, 'penalty': 'l1'}\n",
            "0.122 (+/-0.078) for {'C': 1000, 'penalty': 'l2'}\n",
            "\n",
            "Detailed classification report:\n",
            "\n",
            "The model is trained on the full development set.\n",
            "The scores are computed on the full evaluation set.\n",
            "\n",
            "              precision    recall  f1-score   support\n",
            "\n",
            "        ACLT       0.34      1.00      0.50        84\n",
            "          CL       0.00      0.00      0.00        76\n",
            "       CNTRL       0.00      0.00      0.00        89\n",
            "\n",
            "   micro avg       0.34      0.34      0.34       249\n",
            "   macro avg       0.11      0.33      0.17       249\n",
            "weighted avg       0.11      0.34      0.17       249\n",
            "\n",
            "Confusion matrix, without normalization\n",
            "[[84  0  0]\n",
            " [76  0  0]\n",
            " [89  0  0]]\n"
          ],
          "name": "stdout"
        },
        {
          "output_type": "display_data",
          "data": {
            "image/png": "[encoded data removed]",
            "text/plain": [
              "<Figure size 432x288 with 2 Axes>"
            ]
          },
          "metadata": {
            "tags": [],
            "needs_background": "light"
          }
        },
        {
          "output_type": "stream",
          "text": [
            "\n"
          ],
          "name": "stdout"
        }
      ]
    },
    {
      "cell_type": "code",
      "metadata": {
        "id": "bhzMmvZ85xei",
        "colab_type": "code",
        "colab": {}
      },
      "source": [
        "# Re-train classifier using the optimal parameters\n",
        "clf = LogisticRegression(C=1, penalty='l2',random_state=0)\n",
        "clf.fit(X_train_sm, y_train_label)\n",
        "\n",
        "# evaluate model on (same) training set\n",
        "y_true, y_pred = y_train_label, clf.predict(X_train_sm)\n",
        "y_true = pd.DataFrame(data=y_true)\n",
        "y_pred = pd.DataFrame(data=y_pred)\n",
        "logreg_calib_output = pd.concat([y_true, y_pred], axis=1)\n",
        "#logreg_calib_output.head(5)\n",
        "#export 'logreg_calib_output_aclt-cntrl' to csv'\n",
        "#print('ROC_AUC = %.2f ' %(roc_auc_score(y_train_label, y_pred)))\n",
        "#print('ROC_AUC = %.2f, kappa = %.2f' %(roc_auc_score(y_train_label, y_pred), \n",
        "#                                  cohen_kappa_score(y_train_label, y_pred)))"
      ],
      "execution_count": 0,
      "outputs": []
    },
    {
      "cell_type": "code",
      "metadata": {
        "id": "zqofMQbL5xej",
        "colab_type": "code",
        "colab": {},
        "outputId": "add3b30f-873d-4b23-8ae2-63f55e82f067"
      },
      "source": [
        "# evaluate model on test set\n",
        "y_true, y_pred = y_test_label, clf.predict(X_test_sm)\n",
        "print(classification_report(y_true, y_pred,target_names = classes))\n",
        "    \n",
        "cm = confusion_matrix(y_true, y_pred)\n",
        "fig = plt.figure()\n",
        "plot_confusion_matrix(cm, classes=classes,# normalize=True\n",
        "                      title='CM of logReg model: latent vars')\n",
        "plt.show()\n",
        "#fig.savefig('figs/CM_lr_multi-class_9_2_sm.eps', format='eps', dpi=300)\n",
        "\n",
        "y_true = pd.DataFrame(data=y_true)\n",
        "y_pred = pd.DataFrame(data=y_pred)\n",
        "logreg_test_output = pd.concat([y_true, y_pred], axis=1)\n",
        "#logreg_test_output.head()\n",
        "#export 'logreg_calib_output_aclt-cntrl' to csv\n",
        "\n",
        "#print('ROC_AUC = %.2f, kappa = %.2f' %(roc_auc_score(y_test_label, y_pred), \n",
        "#                                   cohen_kappa_score(y_test_label, y_pred)))"
      ],
      "execution_count": 0,
      "outputs": [
        {
          "output_type": "stream",
          "text": [
            "              precision    recall  f1-score   support\n",
            "\n",
            "        ACLT       0.37      0.52      0.43        21\n",
            "          CL       0.23      0.14      0.18        21\n",
            "       CNTRL       0.52      0.50      0.51        22\n",
            "\n",
            "   micro avg       0.39      0.39      0.39        64\n",
            "   macro avg       0.37      0.39      0.37        64\n",
            "weighted avg       0.38      0.39      0.38        64\n",
            "\n",
            "Confusion matrix, without normalization\n",
            "[[11  5  5]\n",
            " [13  3  5]\n",
            " [ 6  5 11]]\n"
          ],
          "name": "stdout"
        },
        {
          "output_type": "display_data",
          "data": {
            "image/png": "[encoded data removed]",
            "text/plain": [
              "<Figure size 432x288 with 2 Axes>"
            ]
          },
          "metadata": {
            "tags": [],
            "needs_background": "light"
          }
        }
      ]
    },
    {
      "cell_type": "markdown",
      "metadata": {
        "id": "DhiD_fZ35xek",
        "colab_type": "text"
      },
      "source": [
        "Logistic Regression is showing similar test performance as Support Vectors."
      ]
    },
    {
      "cell_type": "markdown",
      "metadata": {
        "id": "J93y9OXo5xek",
        "colab_type": "text"
      },
      "source": [
        "### What spectral variables (features) are most important in the LR classifier?"
      ]
    },
    {
      "cell_type": "code",
      "metadata": {
        "id": "Kyb98EMT5xel",
        "colab_type": "code",
        "colab": {},
        "outputId": "7f98592e-081b-4581-87a8-1a0660b60173"
      },
      "source": [
        "coef = clf.coef_[0]\n",
        "coef.shape"
      ],
      "execution_count": 0,
      "outputs": [
        {
          "output_type": "execute_result",
          "data": {
            "text/plain": [
              "(140,)"
            ]
          },
          "metadata": {
            "tags": []
          },
          "execution_count": 121
        }
      ]
    },
    {
      "cell_type": "code",
      "metadata": {
        "id": "NPppdqVB5xem",
        "colab_type": "code",
        "colab": {},
        "outputId": "ccfaafe8-edbf-4b48-9793-cde257ed6ae3"
      },
      "source": [
        "plt.plot(wave_trim,coef,'g')\n",
        "    \n",
        "plt.xlim(right=1900, left=1000)\n",
        "plt.xlabel('Wavelength (nm)')\n",
        "plt.ylabel('Feature Importance')\n",
        "plt.title('Logistic Regression Classifier Feature Importance')\n",
        "plt.show()"
      ],
      "execution_count": 0,
      "outputs": [
        {
          "output_type": "display_data",
          "data": {
            "image/png": "[encoded data removed]",
            "text/plain": [
              "<Figure size 432x288 with 1 Axes>"
            ]
          },
          "metadata": {
            "tags": [],
            "needs_background": "light"
          }
        }
      ]
    },
    {
      "cell_type": "markdown",
      "metadata": {
        "id": "rnWhptvx5xeo",
        "colab_type": "text"
      },
      "source": [
        "## 3.Deep learning Classifier\n",
        "\n",
        "A deep fully connected network (`FCN` with `5`-hidden layers) and 1-dimensional convolutional neural network (`1D-CNN`) were trained in **keras**, with tensorflow backend."
      ]
    },
    {
      "cell_type": "code",
      "metadata": {
        "id": "AYOSmLGq5xeq",
        "colab_type": "code",
        "colab": {}
      },
      "source": [
        "# One-Hot encode y_train and y_test\n",
        "y_train_lb = np_utils.to_categorical(y_train_label, 3)\n",
        "y_test_lb = np_utils.to_categorical(y_test_label, 3)\n",
        "\n",
        "nb_class = 3\n",
        "nfeat = 140"
      ],
      "execution_count": 0,
      "outputs": []
    },
    {
      "cell_type": "code",
      "metadata": {
        "id": "ml1IUtAd5xer",
        "colab_type": "code",
        "colab": {},
        "outputId": "c71746b3-8294-4cb4-e55e-3266e3578105"
      },
      "source": [
        "# define network architecture for smoothed spectra\n",
        "K.clear_session()\n",
        "model = Sequential()\n",
        "model.add(Dense(1024, input_dim=nfeat, activation=\"tanh\",kernel_initializer=\"glorot_uniform\"))\n",
        "model.add(Dense(512, activation=\"tanh\"))#model.add(Dense(140, activation=\"tanh\"))\n",
        "model.add(Dense(128, activation=\"tanh\"))#model.add(Dense(70, activation=\"tanh\"))\n",
        "model.add(Dense(64, activation=\"tanh\"))#model.add(Dense(35, activation=\"tanh\"))\n",
        "model.add(Dense(32, activation=\"tanh\"))\n",
        "model.add(Dropout(0.4))\n",
        "model.add(Dense(nb_class))\n",
        "model.add(Activation(\"softmax\"))\n",
        "\n",
        "print(model.summary())"
      ],
      "execution_count": 0,
      "outputs": [
        {
          "output_type": "stream",
          "text": [
            "_________________________________________________________________\n",
            "Layer (type)                 Output Shape              Param #   \n",
            "=================================================================\n",
            "dense_1 (Dense)              (None, 1024)              144384    \n",
            "_________________________________________________________________\n",
            "dense_2 (Dense)              (None, 512)               524800    \n",
            "_________________________________________________________________\n",
            "dense_3 (Dense)              (None, 128)               65664     \n",
            "_________________________________________________________________\n",
            "dense_4 (Dense)              (None, 64)                8256      \n",
            "_________________________________________________________________\n",
            "dense_5 (Dense)              (None, 32)                2080      \n",
            "_________________________________________________________________\n",
            "dropout_1 (Dropout)          (None, 32)                0         \n",
            "_________________________________________________________________\n",
            "dense_6 (Dense)              (None, 3)                 99        \n",
            "_________________________________________________________________\n",
            "activation_1 (Activation)    (None, 3)                 0         \n",
            "=================================================================\n",
            "Total params: 745,283\n",
            "Trainable params: 745,283\n",
            "Non-trainable params: 0\n",
            "_________________________________________________________________\n",
            "None\n"
          ],
          "name": "stdout"
        }
      ]
    },
    {
      "cell_type": "code",
      "metadata": {
        "id": "y8SbcAU75xeu",
        "colab_type": "code",
        "colab": {}
      },
      "source": [
        "# TRAINED UP TO 400 STEPS NOW BEFORE BED\n",
        "\n",
        "K.clear_session()\n",
        "model = load_model(\"new_multi-class_model.hdf5\")\n",
        "\n",
        "tboard = TensorBoard(log_dir='logs/{}'.format(time()))\n",
        "checkpointer = ModelCheckpoint(filepath=\"new_multi-class_model.hdf5\", verbose=1, \n",
        "                               save_best_only=True)\n",
        "\n",
        "nb_epoch=100\n",
        "adam = Adam(lr=0.0001)# sgd = SGD(lr=0.001)\n",
        "model.compile(loss=\"categorical_crossentropy\", optimizer=adam, metrics=['acc'])\n",
        "hist = model.fit(X_train_sm, y_train_lb, \n",
        "                 epochs=nb_epoch, validation_data=(X_test_sm, y_test_lb),#validation_split=1/10,\n",
        "                 batch_size=32, verbose=0, callbacks=[tboard, checkpointer])\n",
        "\n",
        "# Plot training & validation accuracy values\n",
        "plt.plot(hist.history['acc'])\n",
        "plt.plot(hist.history['val_acc'])\n",
        "plt.title('Model accuracy')\n",
        "plt.ylabel('Accuracy')\n",
        "plt.xlabel('Epoch')\n",
        "plt.legend(['Train', 'Test'], loc='upper left')\n",
        "plt.show()"
      ],
      "execution_count": 0,
      "outputs": []
    },
    {
      "cell_type": "code",
      "metadata": {
        "id": "4RSkVLkc5xew",
        "colab_type": "code",
        "colab": {},
        "outputId": "e72a4210-39f0-496b-a065-9122a71ed9b5"
      },
      "source": [
        "model = load_model('new_multi-class_model.hdf5')\n",
        "\n",
        "prediction = []\n",
        "for x in range(len(X_test_sm)):\n",
        "    probs = model.predict(X_test_sm)[x]\n",
        "    prediction.append(probs.argmax(axis=0))\n",
        "\n",
        "#print('Probabilities:',probs)\n",
        "#print('Prediction:',prediction)\n",
        "#prediction\n",
        "\n",
        "# evaluate model on test set\n",
        "classes = ['ACLT', 'CL', 'CNTRL']\n",
        "y_true, y_pred = y_test_label, prediction\n",
        "print(classification_report(y_true, y_pred,target_names = classes))\n",
        "    \n",
        "cm = confusion_matrix(y_true, y_pred)\n",
        "fig = plt.figure()\n",
        "plot_confusion_matrix(cm, classes=classes,# normalize=True\n",
        "                      title='CM of DNN (smoothed spectra)')\n",
        "plt.show()\n",
        "#fig.savefig('figs/CM_dnn_multi-class_9_2_sm.eps', format='eps', dpi=300)\n",
        "\n",
        "# np.savetxt('spectra/y_true.csv', y_true, delimiter=',')\n",
        "# np.savetxt('spectra/y_pred.csv', y_pred, delimiter=',')\n"
      ],
      "execution_count": 0,
      "outputs": [
        {
          "output_type": "stream",
          "text": [
            "              precision    recall  f1-score   support\n",
            "\n",
            "        ACLT       0.41      0.52      0.46        21\n",
            "          CL       0.31      0.19      0.24        21\n",
            "       CNTRL       0.62      0.68      0.65        22\n",
            "\n",
            "   micro avg       0.47      0.47      0.47        64\n",
            "   macro avg       0.45      0.47      0.45        64\n",
            "weighted avg       0.45      0.47      0.45        64\n",
            "\n",
            "Confusion matrix, without normalization\n",
            "[[11  5  5]\n",
            " [13  4  4]\n",
            " [ 3  4 15]]\n"
          ],
          "name": "stdout"
        },
        {
          "output_type": "display_data",
          "data": {
            "image/png": "[encoded data removed]",
            "text/plain": [
              "<Figure size 432x288 with 2 Axes>"
            ]
          },
          "metadata": {
            "tags": [],
            "needs_background": "light"
          }
        }
      ]
    },
    {
      "cell_type": "code",
      "metadata": {
        "id": "YkYFICqe5xey",
        "colab_type": "code",
        "colab": {},
        "outputId": "4a3d88b0-880f-42c9-fc0d-b909646886d7"
      },
      "source": [
        "# Accuracy on the test set\n",
        "(loss, accuracy) = model.evaluate(X_test_sm, y_test_lb, batch_size=32, verbose=1)\n",
        "print(\"loss={:.3f}, accuracy: {:.2f}%\".format(loss,accuracy * 100))\n",
        " \n",
        "# dump the network architecture and weights to file\n",
        "print(\"Saving model architecture and weights to file...\")\n",
        "model.save('nir_multi-class_model.hdf5')\n",
        "print(\"Done saving model.\")"
      ],
      "execution_count": 0,
      "outputs": [
        {
          "output_type": "stream",
          "text": [
            "64/64 [==============================] - 2s 26ms/step\n",
            "loss=0.726, accuracy: 65.62%\n",
            "Saving model architecture and weights to file...\n",
            "Done saving model.\n"
          ],
          "name": "stdout"
        }
      ]
    }
  ]
}